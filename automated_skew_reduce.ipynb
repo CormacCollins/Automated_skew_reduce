{
 "cells": [
  {
   "cell_type": "markdown",
   "metadata": {},
   "source": [
    "### Automated Skew Reduction\n",
    "\n",
    "\n",
    "Example usage of an automated skew reduction function I have created.\n",
    "This will use 3 common methods for reducing skew, mentioned here https://towardsdatascience.com/top-3-methods-for-handling-skewed-data-1334e0debf45\n",
    "log, sqrt and the boxcox method. \n",
    "The function works by finding the optimal minimizer of skew for each column, and transoforms that column with the most optimal function, and then returns the dataframe with the transformed columns.\n",
    "\n",
    "**Note:** \n",
    "<ul>\n",
    "    <li>A column can not be transformed by the sqrt or boxcox function if any 0 values in that column</li>\n",
    "    <li>A column can not be transformed by sqrt or boxcox if any negative valus in that column (log accepts negative values)</li>\n",
    "</ul>"
   ]
  },
  {
   "cell_type": "code",
   "execution_count": 161,
   "metadata": {},
   "outputs": [],
   "source": [
    "def minimize_skew_with_transform(df, np, stats, SKEW_CUT_OFF=[-1,1]):\n",
    "    '''\n",
    "    Finds columns with excess skew and minimizes them the best way possible by checking the best transform to use\n",
    "    Transforms include: log, sqrt, boxcox\n",
    "    \n",
    "    df: dataframe to have transforms\n",
    "    stats: stats from scipy needed for boxcox transform\n",
    "    np: numpy reference for func\n",
    "    \n",
    "    General rull of thumb for skew cut off value us [-1, 1] but can be changed\n",
    "    '''\n",
    "    \n",
    "    skews_df = pd.DataFrame(df.skew())\n",
    "    columns_with_high_skew = list()\n",
    "    \n",
    "    #get list of skewed data\n",
    "    for col in skews_df.T.columns:\n",
    "        skew_score = skews_df.T[col].values[0]\n",
    "        if skew_score < SKEW_CUT_OFF[0] or skew_score > SKEW_CUT_OFF[1]:\n",
    "            columns_with_high_skew.append(col)\n",
    "    \n",
    "    print('High skew columns: {}\\n'.format(', '.join(columns_with_high_skew)))\n",
    "    \n",
    "    #find best transform for column and apply it to original df\n",
    "    for col in columns_with_high_skew:\n",
    "        \n",
    "        col_skew = skews_df.T[col].values[0]\n",
    "        l_trans = 0\n",
    "        sqrt_trans = 0\n",
    "        box_cox_trans = 0\n",
    "        NO_ZEROS = False\n",
    "        if 0 not in df[col].values:\n",
    "            l_trans = np.log(df[col]).skew()\n",
    "            NO_ZEROS = True\n",
    "        if np.min(df[col]) > 0:\n",
    "            sqrt_trans = np.sqrt(df[col]).skew()\n",
    "            if NO_ZEROS:\n",
    "                box_cox_trans = pd.Series(stats.boxcox(df[col])[0]).skew()\n",
    "       \n",
    "        \n",
    "        #order important for next case statement\n",
    "        max_vals = [l_trans, sqrt_trans, box_cox_trans, col_skew]\n",
    "        \n",
    "        ind = np.argmin(max_vals)\n",
    "        if ind == 0:\n",
    "            print('Log transformed: {}'.format(col))\n",
    "            df[col] = np.log(df[col])\n",
    "        elif ind == 1:\n",
    "            print('Sqrt transformed: {}'.format(col))\n",
    "            df[col] == np.sqrt(df[col])\n",
    "        elif ind == 2:\n",
    "            print('Boxcox transformed: {}'.format(col))\n",
    "            df[col] == pd.Series(stats.boxcox(df[col])[0])\n",
    "        else:\n",
    "            #no change as the original value is least skew when unchanged\n",
    "            pass\n",
    "            \n",
    "        \n",
    "    return df\n",
    "        "
   ]
  },
  {
   "cell_type": "markdown",
   "metadata": {},
   "source": [
    "To test this I will use the https://www.kaggle.com/c/house-prices-advanced-regression-techniques dataset\n"
   ]
  },
  {
   "cell_type": "code",
   "execution_count": 162,
   "metadata": {},
   "outputs": [],
   "source": [
    "from scipy import stats\n",
    "import numpy as np\n",
    "import pandas as pd\n",
    "train = pd.read_csv(\"train.csv\")"
   ]
  },
  {
   "cell_type": "code",
   "execution_count": 154,
   "metadata": {},
   "outputs": [
    {
     "data": {
      "text/html": [
       "<div>\n",
       "<style scoped>\n",
       "    .dataframe tbody tr th:only-of-type {\n",
       "        vertical-align: middle;\n",
       "    }\n",
       "\n",
       "    .dataframe tbody tr th {\n",
       "        vertical-align: top;\n",
       "    }\n",
       "\n",
       "    .dataframe thead th {\n",
       "        text-align: right;\n",
       "    }\n",
       "</style>\n",
       "<table border=\"1\" class=\"dataframe\">\n",
       "  <thead>\n",
       "    <tr style=\"text-align: right;\">\n",
       "      <th></th>\n",
       "      <th>Id</th>\n",
       "      <th>MSSubClass</th>\n",
       "      <th>MSZoning</th>\n",
       "      <th>LotFrontage</th>\n",
       "      <th>LotArea</th>\n",
       "      <th>Street</th>\n",
       "      <th>Alley</th>\n",
       "      <th>LotShape</th>\n",
       "      <th>LandContour</th>\n",
       "      <th>Utilities</th>\n",
       "      <th>...</th>\n",
       "      <th>PoolArea</th>\n",
       "      <th>PoolQC</th>\n",
       "      <th>Fence</th>\n",
       "      <th>MiscFeature</th>\n",
       "      <th>MiscVal</th>\n",
       "      <th>MoSold</th>\n",
       "      <th>YrSold</th>\n",
       "      <th>SaleType</th>\n",
       "      <th>SaleCondition</th>\n",
       "      <th>SalePrice</th>\n",
       "    </tr>\n",
       "  </thead>\n",
       "  <tbody>\n",
       "    <tr>\n",
       "      <th>0</th>\n",
       "      <td>1</td>\n",
       "      <td>60</td>\n",
       "      <td>RL</td>\n",
       "      <td>65.0</td>\n",
       "      <td>8450</td>\n",
       "      <td>Pave</td>\n",
       "      <td>NaN</td>\n",
       "      <td>Reg</td>\n",
       "      <td>Lvl</td>\n",
       "      <td>AllPub</td>\n",
       "      <td>...</td>\n",
       "      <td>0</td>\n",
       "      <td>NaN</td>\n",
       "      <td>NaN</td>\n",
       "      <td>NaN</td>\n",
       "      <td>0</td>\n",
       "      <td>2</td>\n",
       "      <td>2008</td>\n",
       "      <td>WD</td>\n",
       "      <td>Normal</td>\n",
       "      <td>208500</td>\n",
       "    </tr>\n",
       "    <tr>\n",
       "      <th>1</th>\n",
       "      <td>2</td>\n",
       "      <td>20</td>\n",
       "      <td>RL</td>\n",
       "      <td>80.0</td>\n",
       "      <td>9600</td>\n",
       "      <td>Pave</td>\n",
       "      <td>NaN</td>\n",
       "      <td>Reg</td>\n",
       "      <td>Lvl</td>\n",
       "      <td>AllPub</td>\n",
       "      <td>...</td>\n",
       "      <td>0</td>\n",
       "      <td>NaN</td>\n",
       "      <td>NaN</td>\n",
       "      <td>NaN</td>\n",
       "      <td>0</td>\n",
       "      <td>5</td>\n",
       "      <td>2007</td>\n",
       "      <td>WD</td>\n",
       "      <td>Normal</td>\n",
       "      <td>181500</td>\n",
       "    </tr>\n",
       "    <tr>\n",
       "      <th>2</th>\n",
       "      <td>3</td>\n",
       "      <td>60</td>\n",
       "      <td>RL</td>\n",
       "      <td>68.0</td>\n",
       "      <td>11250</td>\n",
       "      <td>Pave</td>\n",
       "      <td>NaN</td>\n",
       "      <td>IR1</td>\n",
       "      <td>Lvl</td>\n",
       "      <td>AllPub</td>\n",
       "      <td>...</td>\n",
       "      <td>0</td>\n",
       "      <td>NaN</td>\n",
       "      <td>NaN</td>\n",
       "      <td>NaN</td>\n",
       "      <td>0</td>\n",
       "      <td>9</td>\n",
       "      <td>2008</td>\n",
       "      <td>WD</td>\n",
       "      <td>Normal</td>\n",
       "      <td>223500</td>\n",
       "    </tr>\n",
       "    <tr>\n",
       "      <th>3</th>\n",
       "      <td>4</td>\n",
       "      <td>70</td>\n",
       "      <td>RL</td>\n",
       "      <td>60.0</td>\n",
       "      <td>9550</td>\n",
       "      <td>Pave</td>\n",
       "      <td>NaN</td>\n",
       "      <td>IR1</td>\n",
       "      <td>Lvl</td>\n",
       "      <td>AllPub</td>\n",
       "      <td>...</td>\n",
       "      <td>0</td>\n",
       "      <td>NaN</td>\n",
       "      <td>NaN</td>\n",
       "      <td>NaN</td>\n",
       "      <td>0</td>\n",
       "      <td>2</td>\n",
       "      <td>2006</td>\n",
       "      <td>WD</td>\n",
       "      <td>Abnorml</td>\n",
       "      <td>140000</td>\n",
       "    </tr>\n",
       "    <tr>\n",
       "      <th>4</th>\n",
       "      <td>5</td>\n",
       "      <td>60</td>\n",
       "      <td>RL</td>\n",
       "      <td>84.0</td>\n",
       "      <td>14260</td>\n",
       "      <td>Pave</td>\n",
       "      <td>NaN</td>\n",
       "      <td>IR1</td>\n",
       "      <td>Lvl</td>\n",
       "      <td>AllPub</td>\n",
       "      <td>...</td>\n",
       "      <td>0</td>\n",
       "      <td>NaN</td>\n",
       "      <td>NaN</td>\n",
       "      <td>NaN</td>\n",
       "      <td>0</td>\n",
       "      <td>12</td>\n",
       "      <td>2008</td>\n",
       "      <td>WD</td>\n",
       "      <td>Normal</td>\n",
       "      <td>250000</td>\n",
       "    </tr>\n",
       "  </tbody>\n",
       "</table>\n",
       "<p>5 rows × 81 columns</p>\n",
       "</div>"
      ],
      "text/plain": [
       "   Id  MSSubClass MSZoning  LotFrontage  LotArea Street Alley LotShape  \\\n",
       "0   1          60       RL         65.0     8450   Pave   NaN      Reg   \n",
       "1   2          20       RL         80.0     9600   Pave   NaN      Reg   \n",
       "2   3          60       RL         68.0    11250   Pave   NaN      IR1   \n",
       "3   4          70       RL         60.0     9550   Pave   NaN      IR1   \n",
       "4   5          60       RL         84.0    14260   Pave   NaN      IR1   \n",
       "\n",
       "  LandContour Utilities  ... PoolArea PoolQC Fence MiscFeature MiscVal MoSold  \\\n",
       "0         Lvl    AllPub  ...        0    NaN   NaN         NaN       0      2   \n",
       "1         Lvl    AllPub  ...        0    NaN   NaN         NaN       0      5   \n",
       "2         Lvl    AllPub  ...        0    NaN   NaN         NaN       0      9   \n",
       "3         Lvl    AllPub  ...        0    NaN   NaN         NaN       0      2   \n",
       "4         Lvl    AllPub  ...        0    NaN   NaN         NaN       0     12   \n",
       "\n",
       "  YrSold  SaleType  SaleCondition  SalePrice  \n",
       "0   2008        WD         Normal     208500  \n",
       "1   2007        WD         Normal     181500  \n",
       "2   2008        WD         Normal     223500  \n",
       "3   2006        WD        Abnorml     140000  \n",
       "4   2008        WD         Normal     250000  \n",
       "\n",
       "[5 rows x 81 columns]"
      ]
     },
     "execution_count": 154,
     "metadata": {},
     "output_type": "execute_result"
    }
   ],
   "source": [
    "train.head()"
   ]
  },
  {
   "cell_type": "code",
   "execution_count": 155,
   "metadata": {},
   "outputs": [
    {
     "data": {
      "text/plain": [
       "0       62\n",
       "81       5\n",
       "37       3\n",
       "38       2\n",
       "8        2\n",
       "1406     1\n",
       "1369     1\n",
       "690      1\n",
       "1453     1\n",
       "1179     1\n",
       "259      1\n",
       "1        1\n",
       "dtype: int64"
      ]
     },
     "execution_count": 155,
     "metadata": {},
     "output_type": "execute_result"
    }
   ],
   "source": [
    "train.isnull().sum().value_counts()"
   ]
  },
  {
   "cell_type": "markdown",
   "metadata": {},
   "source": [
    "I have shown that there are plenty of null values etc. and that I am not going to change these or any 0's / missing values etc. within the data. However, it will make less changes if the data is not prepared appropriately as the transforms won't be possible if 0's exist or neg values and those columns wil simply be skipped if no transforms are possible."
   ]
  },
  {
   "cell_type": "markdown",
   "metadata": {},
   "source": [
    "We can see below the skew in the data set and get an idea of the ones that might be changed (if possible with thier values)."
   ]
  },
  {
   "cell_type": "code",
   "execution_count": 156,
   "metadata": {},
   "outputs": [
    {
     "data": {
      "text/plain": [
       "Id                0.000000\n",
       "MSSubClass        1.407657\n",
       "LotFrontage       2.163569\n",
       "LotArea          12.207688\n",
       "OverallQual       0.216944\n",
       "OverallCond       0.693067\n",
       "YearBuilt        -0.613461\n",
       "YearRemodAdd     -0.503562\n",
       "MasVnrArea        2.669084\n",
       "BsmtFinSF1        1.685503\n",
       "BsmtFinSF2        4.255261\n",
       "BsmtUnfSF         0.920268\n",
       "TotalBsmtSF       1.524255\n",
       "1stFlrSF          1.376757\n",
       "2ndFlrSF          0.813030\n",
       "LowQualFinSF      9.011341\n",
       "GrLivArea         1.366560\n",
       "BsmtFullBath      0.596067\n",
       "BsmtHalfBath      4.103403\n",
       "FullBath          0.036562\n",
       "HalfBath          0.675897\n",
       "BedroomAbvGr      0.211790\n",
       "KitchenAbvGr      4.488397\n",
       "TotRmsAbvGrd      0.676341\n",
       "Fireplaces        0.649565\n",
       "GarageYrBlt      -0.649415\n",
       "GarageCars       -0.342549\n",
       "GarageArea        0.179981\n",
       "WoodDeckSF        1.541376\n",
       "OpenPorchSF       2.364342\n",
       "EnclosedPorch     3.089872\n",
       "3SsnPorch        10.304342\n",
       "ScreenPorch       4.122214\n",
       "PoolArea         14.828374\n",
       "MiscVal          24.476794\n",
       "MoSold            0.212053\n",
       "YrSold            0.096269\n",
       "SalePrice         1.882876\n",
       "dtype: float64"
      ]
     },
     "execution_count": 156,
     "metadata": {},
     "output_type": "execute_result"
    }
   ],
   "source": [
    "train.skew()"
   ]
  },
  {
   "cell_type": "markdown",
   "metadata": {},
   "source": [
    "Below I will get the skew of the dataset before and after the changes, and take the mean of each skew to compare the changes. Note the output will outline the rows transformed and the function used."
   ]
  },
  {
   "cell_type": "code",
   "execution_count": 163,
   "metadata": {},
   "outputs": [
    {
     "name": "stdout",
     "output_type": "stream",
     "text": [
      "High skew columns: MSSubClass, LotFrontage, LotArea, MasVnrArea, BsmtFinSF1, BsmtFinSF2, TotalBsmtSF, 1stFlrSF, LowQualFinSF, GrLivArea, BsmtHalfBath, KitchenAbvGr, WoodDeckSF, OpenPorchSF, EnclosedPorch, 3SsnPorch, ScreenPorch, PoolArea, MiscVal, SalePrice\n",
      "\n",
      "Boxcox transformed: MSSubClass\n",
      "Log transformed: LotFrontage\n",
      "Log transformed: LotArea\n",
      "Log transformed: MasVnrArea\n",
      "Log transformed: BsmtFinSF1\n",
      "Log transformed: BsmtFinSF2\n",
      "Log transformed: TotalBsmtSF\n",
      "Boxcox transformed: 1stFlrSF\n",
      "Log transformed: LowQualFinSF\n",
      "Log transformed: GrLivArea\n",
      "Log transformed: BsmtHalfBath\n",
      "Log transformed: KitchenAbvGr\n",
      "Log transformed: WoodDeckSF\n",
      "Log transformed: OpenPorchSF\n",
      "Log transformed: EnclosedPorch\n",
      "Log transformed: 3SsnPorch\n",
      "Log transformed: ScreenPorch\n",
      "Log transformed: PoolArea\n",
      "Log transformed: MiscVal\n",
      "Boxcox transformed: SalePrice\n"
     ]
    }
   ],
   "source": [
    "skew1 = train.skew()\n",
    "df = minimize_skew_with_transform(train.copy(), np, stats)\n",
    "skew2 = df.skew()"
   ]
  },
  {
   "cell_type": "code",
   "execution_count": 164,
   "metadata": {},
   "outputs": [
    {
     "name": "stdout",
     "output_type": "stream",
     "text": [
      "2.9668029017648805\n",
      "0.3178331333636269\n"
     ]
    }
   ],
   "source": [
    "\n",
    "print(np.mean(skew1))\n",
    "print(np.mean(skew2))"
   ]
  },
  {
   "cell_type": "markdown",
   "metadata": {},
   "source": [
    "Above we can see the strong reduction in average skew, I have arbitrarily picked the range [1, -1] as the measure of exces skew (that is anything outside this range). As I have read this as a general rule of thumb. But this can be changed to have a more strict measure if you desired, by setting the SKEW_CUT_OFF=[new_min, new_max]."
   ]
  }
 ],
 "metadata": {
  "kernelspec": {
   "display_name": "Python 3",
   "language": "python",
   "name": "python3"
  },
  "language_info": {
   "codemirror_mode": {
    "name": "ipython",
    "version": 3
   },
   "file_extension": ".py",
   "mimetype": "text/x-python",
   "name": "python",
   "nbconvert_exporter": "python",
   "pygments_lexer": "ipython3",
   "version": "3.7.4"
  }
 },
 "nbformat": 4,
 "nbformat_minor": 4
}
